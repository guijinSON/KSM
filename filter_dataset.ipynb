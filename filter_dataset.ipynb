{
 "cells": [
  {
   "cell_type": "code",
   "execution_count": null,
   "id": "ba6fb3db-7206-48b6-a53e-d77f6ccb8e7c",
   "metadata": {
    "scrolled": true
   },
   "outputs": [],
   "source": [
    "from datasets import load_dataset\n",
    "import pandas as pd\n",
    "from tqdm import tqdm \n",
    "from data import check_answer_len, check_sentence_num, match_digit_num, check_duplication, max_duplicated\n",
    "\n",
    "ds = load_dataset(\"amphora/owm-trans\")\n",
    "df = pd.DataFrame(ds['train'])\n",
    "df.translated_question = df.translated_question.apply(lambda x: x[45:].strip())\n",
    "df.translated_solution = df.translated_solution.apply(lambda x: x[45:].strip())"
   ]
  },
  {
   "cell_type": "code",
   "execution_count": null,
   "id": "94c08bab-2ab1-4d96-944f-cb215bca1e0f",
   "metadata": {},
   "outputs": [],
   "source": [
    "mask = []\n",
    "for _,row in tqdm(df.iterrows(),total=len(df)):\n",
    "    if check_answer_len(row.generated_solution,row.translated_solution):\n",
    "        mask.append(False)\n",
    "    elif check_sentence_num(row.generated_solution,row.translated_solution):\n",
    "        mask.append(False)\n",
    "    elif match_digit_num(row.generated_solution,row.translated_solution):\n",
    "        mask.append(False)\n",
    "    elif check_duplication(row.translated_solution):\n",
    "        mask.append(False)\n",
    "    elif max_duplicated(row.translated_solution):\n",
    "        mask.append(False)\n",
    "    else:\n",
    "        mask.append(True)"
   ]
  },
  {
   "cell_type": "code",
   "execution_count": null,
   "id": "a923b4ae-c14c-4a51-a2df-45b908f2a33f",
   "metadata": {},
   "outputs": [],
   "source": [
    "sampled_df = df[mask]"
   ]
  },
  {
   "cell_type": "code",
   "execution_count": null,
   "id": "99914114-cc48-4aa7-9d0d-08fce007b153",
   "metadata": {},
   "outputs": [],
   "source": []
  }
 ],
 "metadata": {
  "kernelspec": {
   "display_name": "Python 3 (ipykernel)",
   "language": "python",
   "name": "python3"
  },
  "language_info": {
   "codemirror_mode": {
    "name": "ipython",
    "version": 3
   },
   "file_extension": ".py",
   "mimetype": "text/x-python",
   "name": "python",
   "nbconvert_exporter": "python",
   "pygments_lexer": "ipython3",
   "version": "3.10.13"
  }
 },
 "nbformat": 4,
 "nbformat_minor": 5
}
